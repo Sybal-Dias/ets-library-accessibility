{
 "cells": [
  {
   "cell_type": "code",
   "execution_count": 2,
   "id": "0b72b5b1-a759-48b2-a711-a6ec49b04a5a",
   "metadata": {},
   "outputs": [],
   "source": [
    "import pandas as pd\n",
    "from pathlib import Path\n",
    "\n",
    "BASE_DIR = Path().resolve().parent\n",
    "\n",
    "# Load CSV\n",
    "bus_stops = pd.read_csv(BASE_DIR / \"data\" / \"raw\" / \"ets_bus_stops.csv\")\n",
    "libraries = pd.read_csv( BASE_DIR / \"data\" / \"raw\" / \"edmonton_libraries.csv\")\n",
    "# Keep relevant columns (e.g., latitude, longitude, name)\n",
    "bus_stops = bus_stops[[\"stop_id\", \"stop_name\", \"latitude\", \"longitude\"]]\n",
    "libraries = libraries[[\"name\", \"latitude\", \"longitude\"]]\n",
    "\n"
   ]
  },
  {
   "cell_type": "code",
   "execution_count": null,
   "id": "598b3456-f94d-4413-abf0-e000db8129b2",
   "metadata": {},
   "outputs": [],
   "source": [
    "from geopy.distance import geodesic\n",
    "\n",
    "def nearest_library_distance(bus_stop, libraries):\n",
    "    bus_coords = (bus_stop[\"latitude\"], bus_stop[\"longitude\"])\n",
    "    distances = libraries.apply(\n",
    "        lambda lib: geodesic(bus_coords, (lib[\"latitude\"], lib[\"longitude\"])).km,\n",
    "        axis=1\n",
    "    )\n",
    "    return distances.min()\n",
    "\n",
    "bus_stops[\"nearest_library_km\"] = bus_stops.apply(\n",
    "    lambda row: nearest_library_distance(row, libraries), axis=1\n",
    ")\n"
   ]
  },
  {
   "cell_type": "code",
   "execution_count": null,
   "id": "1bf46a2a-f73f-444b-a6ec-ca934c966073",
   "metadata": {},
   "outputs": [],
   "source": [
    "import folium\n",
    "\n",
    "edmonton_map = folium.Map(location=[53.5461, -113.4938], zoom_start=12)\n",
    "for _, row in bus_stops.iterrows():\n",
    "    color = \"blue\" if row[\"nearest_library_km\"] > 1 else \"green\"\n",
    "    folium.CircleMarker(\n",
    "        [row[\"latitude\"], row[\"longitude\"]],\n",
    "        radius=3,\n",
    "        color=color,\n",
    "        fill=True\n",
    "    ).add_to(edmonton_map)\n",
    "edmonton_map.save( BASE_DIR / \"visualizations\"/\"accessibility_map.html\")"
   ]
  },
  {
   "cell_type": "code",
   "execution_count": 1,
   "id": "eb5ee026-62ac-41e9-b932-2f35b31d9468",
   "metadata": {},
   "outputs": [
    {
     "ename": "NameError",
     "evalue": "name 'bus_stops' is not defined",
     "output_type": "error",
     "traceback": [
      "\u001b[31m---------------------------------------------------------------------------\u001b[39m",
      "\u001b[31mNameError\u001b[39m                                 Traceback (most recent call last)",
      "\u001b[36mCell\u001b[39m\u001b[36m \u001b[39m\u001b[32mIn[1]\u001b[39m\u001b[32m, line 5\u001b[39m\n\u001b[32m      2\u001b[39m \u001b[38;5;28;01mimport\u001b[39;00m\u001b[38;5;250m \u001b[39m\u001b[34;01mmatplotlib\u001b[39;00m\u001b[34;01m.\u001b[39;00m\u001b[34;01mpyplot\u001b[39;00m\u001b[38;5;250m \u001b[39m\u001b[38;5;28;01mas\u001b[39;00m\u001b[38;5;250m \u001b[39m\u001b[34;01mplt\u001b[39;00m\n\u001b[32m      4\u001b[39m \u001b[38;5;66;03m# Categorize bus stops\u001b[39;00m\n\u001b[32m----> \u001b[39m\u001b[32m5\u001b[39m bus_stops[\u001b[33m\"\u001b[39m\u001b[33maccess_category\u001b[39m\u001b[33m\"\u001b[39m] = \u001b[43mbus_stops\u001b[49m[\u001b[33m\"\u001b[39m\u001b[33mnearest_library_km\u001b[39m\u001b[33m\"\u001b[39m].apply(\n\u001b[32m      6\u001b[39m     \u001b[38;5;28;01mlambda\u001b[39;00m x: \u001b[33m\"\u001b[39m\u001b[33m<=1 km (within walking distance) \u001b[39m\u001b[33m\"\u001b[39m \u001b[38;5;28;01mif\u001b[39;00m x <= \u001b[32m1\u001b[39m \u001b[38;5;28;01melse\u001b[39;00m \u001b[33m\"\u001b[39m\u001b[33m>1 km (underserved)\u001b[39m\u001b[33m\"\u001b[39m\n\u001b[32m      7\u001b[39m )\n\u001b[32m      9\u001b[39m \u001b[38;5;66;03m# Count categories\u001b[39;00m\n\u001b[32m     10\u001b[39m category_counts = bus_stops[\u001b[33m\"\u001b[39m\u001b[33maccess_category\u001b[39m\u001b[33m\"\u001b[39m].value_counts(normalize=\u001b[38;5;28;01mTrue\u001b[39;00m) * \u001b[32m100\u001b[39m\n",
      "\u001b[31mNameError\u001b[39m: name 'bus_stops' is not defined"
     ]
    }
   ],
   "source": [
    "import pandas as pd\n",
    "import matplotlib.pyplot as plt\n",
    "\n",
    "# Categorize bus stops\n",
    "bus_stops[\"access_category\"] = bus_stops[\"nearest_library_km\"].apply(\n",
    "    lambda x: \"<=1 km (within walking distance) \" if x <= 1 else \">1 km (underserved)\"\n",
    ")\n",
    "\n",
    "# Count categories\n",
    "category_counts = bus_stops[\"access_category\"].value_counts(normalize=True) * 100\n",
    "\n",
    "# Plot\n",
    "plt.figure(figsize=(6, 4))\n",
    "category_counts.plot(kind='bar', color=['blue', 'green'])\n",
    "plt.title(\"ETS Bus Stops by Proximity to Nearest Library\")\n",
    "plt.ylabel(\"Percentage of Bus Stops (%)\")\n",
    "plt.xlabel(\"Distance Category\")\n",
    "plt.xticks(rotation=0)\n",
    "plt.ylim(0, 100)\n",
    "plt.grid(axis='y', linestyle='--', alpha=0.7)\n",
    "plt.tight_layout()\n",
    "plt.savefig(BASE_DIR /\"visualizations/bus_stop_access_bar_chart.png\")\n",
    "plt.show()"
   ]
  },
  {
   "cell_type": "code",
   "execution_count": 20,
   "id": "9d89d165-52cb-4d4e-aa6b-2517a75a3a91",
   "metadata": {},
   "outputs": [],
   "source": [
    "#bus_stops.to_csv(\"ets_bus_stops_with_library_distance.csv\", index=False)\n",
    "# Save enriched dataset\n",
    "processed_path = BASE_DIR / \"data\" / \"processed\" / \"ets_bus_stops_with_library_distance.csv\"\n",
    "bus_stops.to_csv(processed_path, index=False)"
   ]
  }
 ],
 "metadata": {
  "kernelspec": {
   "display_name": "Python 3 (ipykernel)",
   "language": "python",
   "name": "python3"
  },
  "language_info": {
   "codemirror_mode": {
    "name": "ipython",
    "version": 3
   },
   "file_extension": ".py",
   "mimetype": "text/x-python",
   "name": "python",
   "nbconvert_exporter": "python",
   "pygments_lexer": "ipython3",
   "version": "3.13.5"
  }
 },
 "nbformat": 4,
 "nbformat_minor": 5
}
