{
 "cells": [
  {
   "cell_type": "code",
   "execution_count": 1,
   "id": "ed64ee56-4b50-42be-a615-fdd556c466b4",
   "metadata": {},
   "outputs": [],
   "source": [
    "import pandas as pd\n",
    "\n",
    "# Load data\n",
    "bus_stops = pd.read_csv(\"ets_bus_stops.csv\")\n",
    "libraries = pd.read_csv(\"edmonton_libraries.csv\")\n",
    "\n",
    "# Keep relevant columns (e.g., latitude, longitude, name)\n",
    "bus_stops = bus_stops[[\"stop_id\", \"stop_name\", \"latitude\", \"longitude\"]]\n",
    "libraries = libraries[[\"name\", \"latitude\", \"longitude\"]]"
   ]
  },
  {
   "cell_type": "code",
   "execution_count": 7,
   "id": "0b72b5b1-a759-48b2-a711-a6ec49b04a5a",
   "metadata": {},
   "outputs": [],
   "source": [
    "import pandas as pd\n",
    "\n",
    "# Load data\n",
    "bus_stops = pd.read_csv(\"ets_bus_stops.csv\")\n",
    "libraries = pd.read_csv(\"edmonton_libraries.csv\")\n",
    "\n",
    "# Keep relevant columns (e.g., latitude, longitude, name)\n",
    "bus_stops = bus_stops[[\"stop_id\", \"stop_name\", \"latitude\", \"longitude\"]]\n",
    "libraries = libraries[[\"name\", \"latitude\", \"longitude\"]]"
   ]
  },
  {
   "cell_type": "code",
   "execution_count": 8,
   "id": "598b3456-f94d-4413-abf0-e000db8129b2",
   "metadata": {},
   "outputs": [],
   "source": [
    "from geopy.distance import geodesic\n",
    "\n",
    "def nearest_library_distance(bus_stop, libraries):\n",
    "    bus_coords = (bus_stop[\"latitude\"], bus_stop[\"longitude\"])\n",
    "    distances = libraries.apply(\n",
    "        lambda lib: geodesic(bus_coords, (lib[\"latitude\"], lib[\"longitude\"])).km,\n",
    "        axis=1\n",
    "    )\n",
    "    return distances.min()\n",
    "\n",
    "bus_stops[\"nearest_library_km\"] = bus_stops.apply(\n",
    "    lambda row: nearest_library_distance(row, libraries), axis=1\n",
    ")\n"
   ]
  },
  {
   "cell_type": "code",
   "execution_count": 11,
   "id": "1bf46a2a-f73f-444b-a6ec-ca934c966073",
   "metadata": {},
   "outputs": [],
   "source": [
    "import folium\n",
    "\n",
    "edmonton_map = folium.Map(location=[53.5461, -113.4938], zoom_start=12)\n",
    "for _, row in bus_stops.iterrows():\n",
    "    color = \"blue\" if row[\"nearest_library_km\"] > 1 else \"green\"\n",
    "    folium.CircleMarker(\n",
    "        [row[\"latitude\"], row[\"longitude\"]],\n",
    "        radius=3,\n",
    "        color=color,\n",
    "        fill=True\n",
    "    ).add_to(edmonton_map)\n",
    "edmonton_map.save(\"accessibility_map.html\")"
   ]
  },
  {
   "cell_type": "code",
   "execution_count": null,
   "id": "9d89d165-52cb-4d4e-aa6b-2517a75a3a91",
   "metadata": {},
   "outputs": [],
   "source": []
  }
 ],
 "metadata": {
  "kernelspec": {
   "display_name": "Python 3 (ipykernel)",
   "language": "python",
   "name": "python3"
  },
  "language_info": {
   "codemirror_mode": {
    "name": "ipython",
    "version": 3
   },
   "file_extension": ".py",
   "mimetype": "text/x-python",
   "name": "python",
   "nbconvert_exporter": "python",
   "pygments_lexer": "ipython3",
   "version": "3.13.5"
  }
 },
 "nbformat": 4,
 "nbformat_minor": 5
}
